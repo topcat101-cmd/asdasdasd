{
  "nbformat": 4,
  "nbformat_minor": 0,
  "metadata": {
    "colab": {
      "name": "Untitled6.ipynb",
      "provenance": [],
      "authorship_tag": "ABX9TyN8nivFy9EIiuT7we+hoTOJ",
      "include_colab_link": true
    },
    "kernelspec": {
      "name": "python3",
      "display_name": "Python 3"
    },
    "language_info": {
      "name": "python"
    }
  },
  "cells": [
    {
      "cell_type": "markdown",
      "metadata": {
        "id": "view-in-github",
        "colab_type": "text"
      },
      "source": [
        "<a href=\"https://colab.research.google.com/github/topcat101-cmd/asdasdasd/blob/main/notes%20-%20linear%20regression%20-.ipynb\" target=\"_parent\"><img src=\"https://colab.research.google.com/assets/colab-badge.svg\" alt=\"Open In Colab\"/></a>"
      ]
    },
    {
      "cell_type": "code",
      "metadata": {
        "id": "ravo615iNqky"
      },
      "source": [
        "%tensorflow_version 2.x\n",
        "from __future__ import absolute_import, division, print_function, unicode_literals\n",
        "\n",
        "import numpy as np #mulitdemanal ray, allows you fastly perform diffrent scnarios\n",
        "import pandas as pd #data analitics tool\n",
        "import matplotlib.pyplot as plt #\n",
        "from IPython.display import clear_output\n",
        "from six.moves import urllib\n",
        "import tensorflow.compat.v2.feature_column as fc\n",
        "import tensorflow as tf\n",
        "#------------------------------\n",
        "# !pip install -q sklearn\n",
        "# print(tf.version)\n",
        "# t = tf.zeros([5,5,5,5])\n",
        "# t = tf.reshape(t, [125, -1])\n",
        "# print(t)\n",
        "\n"
      ],
      "execution_count": null,
      "outputs": []
    },
    {
      "cell_type": "code",
      "metadata": {
        "colab": {
          "base_uri": "https://localhost:8080/"
        },
        "id": "6hjzYZ1Ka1_x",
        "outputId": "e53917c4-fb68-4c47-9fdf-04c6c87f1367"
      },
      "source": [
        "dftrain = pd.read_csv('https://storage.googleapis.com/tf-datasets/titanic/train.csv') # training data \n",
        "# this would be to train the model with>>>\n",
        "dfeval = pd.read_csv('https://storage.googleapis.com/tf-datasets/titanic/eval.csv') # testing data\n",
        "#This would be to test the model with>>>\n",
        "#print(dftrain.head()) #prints out the data frame\n",
        "y_train = dftrain.pop('survived')\n",
        "y_eval = dfeval.pop('survived')\n",
        "#print(dftrain.loc[0], y_train.loc[0]) #prints out the data frame ----- #loc allows you to find a specific row in your dataframe, giving the index\n",
        "\n",
        "Categorical_columns = ['sex', 'n_siblings_spouses', 'parch', 'class', 'deck', 'embark_town', 'alone']\n",
        "\n",
        "numeric_columns = ['age', 'fare']\n",
        "\n",
        "feature_columns = []\n",
        "for feature_name in Categorical_columns:\n",
        "  vocabulary = dftrain[feature_name].unique()#gets a list of all the unoque values from a given feature column\n",
        "  feature_columns.append(tf.feature_column.categorical_column_with_vocabulary_list(feature_name, vocabulary))#Puts all of this data into the feature columns list\n",
        "\n",
        "for feature_name in numeric_columns:\n",
        "  feature_columns.append(tf.feature_column.numeric_column(feature_name, dtype=tf.float32))#Puts all of this data into the feature columns list\n",
        "\n",
        "print(feature_columns)"
      ],
      "execution_count": null,
      "outputs": [
        {
          "output_type": "stream",
          "text": [
            "[VocabularyListCategoricalColumn(key='sex', vocabulary_list=('male', 'female'), dtype=tf.string, default_value=-1, num_oov_buckets=0), VocabularyListCategoricalColumn(key='n_siblings_spouses', vocabulary_list=(1, 0, 3, 4, 2, 5, 8), dtype=tf.int64, default_value=-1, num_oov_buckets=0), VocabularyListCategoricalColumn(key='parch', vocabulary_list=(0, 1, 2, 5, 3, 4), dtype=tf.int64, default_value=-1, num_oov_buckets=0), VocabularyListCategoricalColumn(key='class', vocabulary_list=('Third', 'First', 'Second'), dtype=tf.string, default_value=-1, num_oov_buckets=0), VocabularyListCategoricalColumn(key='deck', vocabulary_list=('unknown', 'C', 'G', 'A', 'B', 'D', 'F', 'E'), dtype=tf.string, default_value=-1, num_oov_buckets=0), VocabularyListCategoricalColumn(key='embark_town', vocabulary_list=('Southampton', 'Cherbourg', 'Queenstown', 'unknown'), dtype=tf.string, default_value=-1, num_oov_buckets=0), VocabularyListCategoricalColumn(key='alone', vocabulary_list=('n', 'y'), dtype=tf.string, default_value=-1, num_oov_buckets=0), NumericColumn(key='age', shape=(1,), default_value=None, dtype=tf.float32, normalizer_fn=None), NumericColumn(key='fare', shape=(1,), default_value=None, dtype=tf.float32, normalizer_fn=None)]\n"
          ],
          "name": "stdout"
        }
      ]
    },
    {
      "cell_type": "code",
      "metadata": {
        "colab": {
          "base_uri": "https://localhost:8080/"
        },
        "id": "V4TmmwltzXqk",
        "outputId": "e46cbb63-153e-46e7-aa67-ad817c9911a1"
      },
      "source": [
        "def make_input_fn(data_df, label_df, num_epochs=1000, shuffle=True, batch_size=32):\n",
        "  def input_function():  # inner function, this will be returned\n",
        "    ds = tf.data.Dataset.from_tensor_slices((dict(data_df), label_df))  # create tf.data.Dataset object with data and its label\n",
        "    if shuffle:\n",
        "      ds = ds.shuffle(1000)  # randomize order of data\n",
        "    ds = ds.batch(batch_size).repeat(num_epochs)  # split dataset into batches of 32 and repeat process for number of epochs\n",
        "    return ds  # return a batch of the dataset\n",
        "  return input_function  # return a function object for use\n",
        "\n",
        "train_input_fn = make_input_fn(dftrain, y_train)  # here we will call the input_function that was returned to us to get a dataset object we can feed to the model\n",
        "eval_input_fn = make_input_fn(dfeval, y_eval, num_epochs=1, shuffle=False)\n",
        "\n",
        "linear_est = tf.estimator.LinearClassifier(feature_columns=feature_columns) #this would give the feature columns from above, which would be passed to a linearobject classifier, to then estimator from tensorflow\n",
        "\n",
        "linear_est.train(train_input_fn) #train the model\n",
        "result = linear_est.evaluate(eval_input_fn) #get model metrics/ stats by testing on testing data\n",
        "\n",
        "clear_output() #clears console output\n",
        "print(result['accuracy']) #the result variable is simply a dict of stats about model\n",
        "print(result)"
      ],
      "execution_count": null,
      "outputs": [
        {
          "output_type": "stream",
          "text": [
            "0.78409094\n",
            "{'accuracy': 0.78409094, 'accuracy_baseline': 0.625, 'auc': 0.8386899, 'auc_precision_recall': 0.7776822, 'average_loss': 0.47217602, 'label/mean': 0.375, 'loss': 0.45205894, 'precision': 0.6981132, 'prediction/mean': 0.40743992, 'recall': 0.74747473, 'global_step': 20000}\n"
          ],
          "name": "stdout"
        }
      ]
    },
    {
      "cell_type": "code",
      "metadata": {
        "colab": {
          "base_uri": "https://localhost:8080/"
        },
        "id": "eaDrbWgfTIko",
        "outputId": "822605cc-5a72-45f0-a491-9f550f71d99b"
      },
      "source": [
        "result = list(linear_est.predict(eval_input_fn))\n",
        "clear_output()\n",
        "print(dfeval.loc[2])\n",
        "print(y_eval.loc[2])\n",
        "print(result[2]['probabilities'][1])\n",
        "# making prediction and to then look at the predictions  #Linear regression"
      ],
      "execution_count": null,
      "outputs": [
        {
          "output_type": "stream",
          "text": [
            "sex                        female\n",
            "age                            58\n",
            "n_siblings_spouses              0\n",
            "parch                           0\n",
            "fare                        26.55\n",
            "class                       First\n",
            "deck                            C\n",
            "embark_town           Southampton\n",
            "alone                           y\n",
            "Name: 2, dtype: object\n",
            "1\n",
            "0.7625139\n"
          ],
          "name": "stdout"
        }
      ]
    },
    {
      "cell_type": "code",
      "metadata": {
        "id": "2GpwyU55UJZA"
      },
      "source": [
        ""
      ],
      "execution_count": null,
      "outputs": []
    }
  ]
}